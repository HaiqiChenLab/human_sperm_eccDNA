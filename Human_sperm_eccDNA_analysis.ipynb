{
 "cells": [
  {
   "cell_type": "code",
   "execution_count": null,
   "metadata": {},
   "outputs": [],
   "source": [
    "cd /your/direcotry/"
   ]
  },
  {
   "cell_type": "code",
   "execution_count": null,
   "metadata": {
    "collapsed": true
   },
   "outputs": [],
   "source": [
    "import csv\n",
    "import pyfaidx\n",
    "import pandas as pd\n",
    "import seaborn as sns\n",
    "from matplotlib import pyplot as plt\n",
    "from Bio import SeqIO\n",
    "from Bio.Seq import Seq\n",
    "import random\n",
    "import warnings\n",
    "import pybedtools\n",
    "import re\n",
    "import numpy as np"
   ]
  },
  {
   "cell_type": "markdown",
   "metadata": {},
   "source": [
    "### Extract the 10 bp flanking the start and end poisition of eccDNA cooridnates"
   ]
  },
  {
   "cell_type": "code",
   "execution_count": null,
   "metadata": {
    "collapsed": true
   },
   "outputs": [],
   "source": [
    "hg38_fasta = pyfaidx.Fasta(\"hg38.fa\")"
   ]
  },
  {
   "cell_type": "code",
   "execution_count": null,
   "metadata": {
    "collapsed": true
   },
   "outputs": [],
   "source": [
    "# Read in the CSV file\n",
    "df = pd.read_csv('eccDNA_coordinates.csv')\n",
    "\n",
    "# Define a function to extract the 21 bp sequence \n",
    "def extract_seq(chr_name, pos):\n",
    "    start = pos - 11\n",
    "    end = pos + 10\n",
    "    return str(hg38_fasta[chr_name][start:end])\n",
    "\n",
    "# Start sequences\n",
    "with open('eccDNA_start_junction.fa', 'w') as out_file:\n",
    "    # Loop through the dataframe and extract sequences\n",
    "    for i, row in df.iterrows():\n",
    "        # Extract start sequence\n",
    "        start_seq = extract_seq(row['chr'], row['start'])\n",
    "        out_file.write(f'>start_{i}_{row[\"chr\"]}_{row[\"start\"]}\\n{start_seq}\\n')\n",
    "        \n",
    "# End sequences\n",
    "with open('eccDNA_end_junction.fa', 'w') as out_file:\n",
    "    # Loop through the dataframe and extract sequences\n",
    "    for i, row in df.iterrows():        \n",
    "        # Extract end sequence\n",
    "        end_seq = extract_seq(row['chr'], row['end'])\n",
    "        out_file.write(f'>end_{i}_{row[\"chr\"]}_{row[\"end\"]}\\n{end_seq}\\n')"
   ]
  },
  {
   "cell_type": "markdown",
   "metadata": {},
   "source": [
    "### Identify microhomology at the start and end sequences of eccDNA junctions"
   ]
  },
  {
   "cell_type": "code",
   "execution_count": null,
   "metadata": {
    "collapsed": true
   },
   "outputs": [],
   "source": [
    "# Perform the local sequence alignment using the Smith-Waterman algorithm.\n",
    "# Return the length of the longest consective identical sequence.\n",
    "def local_sequence_alignment(seq1, seq2):\n",
    "    m = len(seq1)\n",
    "    n = len(seq2)\n",
    "\n",
    "    # Initialize the score matrix and traceback matrix\n",
    "    score_matrix = [[0] * (n + 1) for _ in range(m + 1)]\n",
    "    traceback_matrix = [[0] * (n + 1) for _ in range(m + 1)]\n",
    "\n",
    "    # Variables to keep track of the highest score and its position in the matrix\n",
    "    max_score = 0\n",
    "    max_i = 0\n",
    "    max_j = 0\n",
    "\n",
    "    # Fill in the score and traceback matrices\n",
    "    for i in range(1, m + 1):\n",
    "        for j in range(1, n + 1):\n",
    "            match = score_matrix[i - 1][j - 1] + (seq1[i - 1] == seq2[j - 1])\n",
    "            delete = score_matrix[i - 1][j]\n",
    "            insert = score_matrix[i][j - 1]\n",
    "            score = max(0, match, delete, insert)\n",
    "            score_matrix[i][j] = score\n",
    "\n",
    "            if score == 0:\n",
    "                traceback_matrix[i][j] = 0\n",
    "            elif score == match:\n",
    "                traceback_matrix[i][j] = 1\n",
    "            elif score == delete:\n",
    "                traceback_matrix[i][j] = 2\n",
    "            else:\n",
    "                traceback_matrix[i][j] = 3\n",
    "\n",
    "            # Update the maximum score and its position\n",
    "            if score > max_score:\n",
    "                max_score = score\n",
    "                max_i = i\n",
    "                max_j = j\n",
    "\n",
    "    # Traceback to find the alignment\n",
    "    align_seq1 = \"\"\n",
    "    align_seq2 = \"\"\n",
    "\n",
    "    i = max_i\n",
    "    j = max_j\n",
    "\n",
    "    identical_length = 0\n",
    "    current_length = 0\n",
    "\n",
    "    while i > 0 and j > 0 and score_matrix[i][j] > 0:\n",
    "        if traceback_matrix[i][j] == 1:\n",
    "            align_seq1 = seq1[i - 1] + align_seq1\n",
    "            align_seq2 = seq2[j - 1] + align_seq2\n",
    "            i -= 1\n",
    "            j -= 1\n",
    "            current_length += 1\n",
    "        elif traceback_matrix[i][j] == 2:\n",
    "            align_seq1 = seq1[i - 1] + align_seq1\n",
    "            align_seq2 = '-' + align_seq2\n",
    "            i -= 1\n",
    "            current_length = 0\n",
    "        else:\n",
    "            align_seq1 = '-' + align_seq1\n",
    "            align_seq2 = seq2[j - 1] + align_seq2\n",
    "            j -= 1\n",
    "            current_length = 0\n",
    "\n",
    "        if current_length > identical_length:\n",
    "            identical_length = current_length\n",
    "\n",
    "    return identical_length"
   ]
  },
  {
   "cell_type": "code",
   "execution_count": null,
   "metadata": {
    "collapsed": true
   },
   "outputs": [],
   "source": [
    "# Define a function to extract the 20 bp sequence before the start position and after the end position of each eccDNA\n",
    "def extract_start_seq(chr_name, pos):\n",
    "    start = pos\n",
    "    end = pos + 20\n",
    "    return str(hg38_fasta[chr_name][start:end])\n",
    "\n",
    "def extract_end_seq(chr_name, pos):\n",
    "    start = pos - 20\n",
    "    end = pos\n",
    "    return str(hg38_fasta[chr_name][start:end])"
   ]
  },
  {
   "cell_type": "code",
   "execution_count": null,
   "metadata": {},
   "outputs": [],
   "source": [
    "# Read in the CSV file\n",
    "df = pd.read_csv('eccDNA_coordinates.csv')\n",
    "\n",
    "homology_dict = {}\n",
    "for i, row in df.iterrows():\n",
    "    start_seq = extract_start_seq(row['chr'], row['start'])\n",
    "    end_seq = extract_end_seq(row['chr'], row['end'])\n",
    "    identical_length = local_sequence_alignment(start_seq, end_seq)\n",
    "    homology_dict[f\"{row['chr']}_{row['start']}_{row['end']}\"] = identical_length\n",
    "    \n",
    "homology_df = pd.DataFrame.from_dict(homology_dict, orient ='index')\n",
    "homology_df= homology_df.rename(columns={0: \"homology_length\"})\n",
    "homology_df.to_csv('eccDNA_microhomology_length.csv')\n",
    "homology_cnt = homology_df['homology_length'][homology_df['homology_length'] > 2].count()\n",
    "pct_homology = homology_cnt/len(homology_df)*100\n",
    "print('Pct of eccDNA having microhomology:'+ f'{pct_homology}')\n",
    "homology_df.head()"
   ]
  },
  {
   "cell_type": "code",
   "execution_count": null,
   "metadata": {},
   "outputs": [],
   "source": [
    "# Plot histogram\n",
    "sns.histplot(homology_df, x=\"homology_length\")"
   ]
  },
  {
   "cell_type": "markdown",
   "metadata": {},
   "source": [
    "### Generate a random eccDNA dataset that has the same length and chromosome distribution as the actual dataset"
   ]
  },
  {
   "cell_type": "code",
   "execution_count": null,
   "metadata": {},
   "outputs": [],
   "source": [
    "#hide warnings\n",
    "warnings.filterwarnings('ignore')\n",
    "\n",
    "# Read in the CSV file\n",
    "df = pd.read_csv('eccDNA_coordinates.csv',header=0)\n",
    "\n",
    "# Load the hg38 genome reference\n",
    "genome = pyfaidx.Fasta(\"hg38.fa\")\n",
    "\n",
    "# Create an empty dataframe to store the random coordinates and sequences\n",
    "rand_df = pd.DataFrame(columns=['chr', 'start', 'end'])\n",
    "\n",
    "num_iter = 100\n",
    "for j in range(num_iter):\n",
    "    print(f'this is iteration {j}')\n",
    "# Iterate over each chromosome in the input set\n",
    "    for chrom, chrom_df in df.groupby('chr'):\n",
    "        # Calculate the proportion of coordinates from this chromosome\n",
    "        #print(f'working on {chrom}')\n",
    "        chrom_prop = len(chrom_df) / len(df)\n",
    "\n",
    "        # Calculate the total length of the chromosome\n",
    "        chrom_len = len(genome[chrom])\n",
    "\n",
    "        # Calculate the number of sequences to generate for this chromosome\n",
    "        n_rand = len(chrom_df)\n",
    "\n",
    "        # Generate random coordinates and sequences\n",
    "        for i in range(n_rand):\n",
    "            # Generate random coordinates\n",
    "            rand_start = random.randint(0, chrom_len)\n",
    "            seq_lengths = chrom_df.iloc[i,2] - chrom_df.iloc[i,1]      \n",
    "            rand_end = rand_start + seq_lengths\n",
    "            if rand_end > chrom_len:\n",
    "                continue\n",
    "\n",
    "            # Add the random sequence to the dataframe\n",
    "            rand_df = rand_df.append({'chr': chrom, 'start': rand_start, 'end': rand_end}, ignore_index=True)\n",
    "\n",
    "rand_df = rand_df.drop_duplicates()\n",
    "# Output the results to a new CSV file\n",
    "rand_df.to_csv('random_set_eccDNA.csv', index=False)"
   ]
  },
  {
   "cell_type": "markdown",
   "metadata": {},
   "source": [
    "### Extract the 10 bp flanking the start and end poisition of the ramdom set"
   ]
  },
  {
   "cell_type": "code",
   "execution_count": null,
   "metadata": {
    "collapsed": true
   },
   "outputs": [],
   "source": [
    "# Define a function to extract the 21 bp sequence\n",
    "def extract_seq(chr_name, pos):\n",
    "    start = pos - 11\n",
    "    end = pos + 10\n",
    "    return str(genome[chr_name][start:end])\n",
    "\n",
    "# Open the output fasta file for writing\n",
    "with open('random_start_junction.fa', 'w') as out_file:\n",
    "    # Loop through the dataframe and extract sequences\n",
    "    for i, row in rand_df.iterrows():\n",
    "        # Extract start sequence\n",
    "        start_seq = extract_seq(row['chr'], row['start'])\n",
    "        out_file.write(f'>start_{i}_{row[\"chr\"]}_{row[\"start\"]}\\n{start_seq}\\n')\n",
    "        \n",
    "# Open the output fasta file for writing\n",
    "with open('random_end_junction.fa', 'w') as out_file:\n",
    "    # Loop through the dataframe and extract sequences\n",
    "    for i, row in rand_df.iterrows():        \n",
    "        # Extract end sequence\n",
    "        end_seq = extract_seq(row['chr'], row['end'])\n",
    "        out_file.write(f'>end_{i}_{row[\"chr\"]}_{row[\"end\"]}\\n{end_seq}\\n')"
   ]
  },
  {
   "cell_type": "markdown",
   "metadata": {
    "collapsed": true
   },
   "source": [
    "### Calculate the percentage of eccDNA that contains at least one gene exon"
   ]
  },
  {
   "cell_type": "code",
   "execution_count": null,
   "metadata": {},
   "outputs": [],
   "source": [
    "#Define a function\n",
    "def extract_gene_name(cell):\n",
    "    return cell.split('gene_name')[-1].replace('\"', '').replace(';', '').strip()\n",
    "\n",
    "# load gene annotation GTF file\n",
    "gtf_file = 'hg38.ncbiRefSeq.gtf.gz'\n",
    "gtf = pybedtools.BedTool(gtf_file)\n",
    "gtf_df = gtf.to_dataframe(names=['chr', 'source', 'feature', 'start', 'end', 'score', 'strand', 'frame', 'attribute'])\n",
    "\n",
    "# extract exon features from GTF\n",
    "exon_df = gtf_df[gtf_df['feature'] == 'exon']\n",
    "\n",
    "# load genome coordinates CSV file\n",
    "coord_file = 'eccDNA_coordinates.csv'\n",
    "coord_df = pd.read_csv(coord_file)\n",
    "\n",
    "exon_lost_df = pd.DataFrame()\n",
    "num_exon_coords = 0\n",
    "for index, row in coord_df.iterrows():\n",
    "    chr_name = row['chr']\n",
    "    start_pos = row['start']\n",
    "    end_pos = row['end']\n",
    "    \n",
    "    # subset gene annotation dataframe for the chromosome\n",
    "    chr_gtf_df = exon_df[exon_df['chr'] == chr_name]\n",
    "    \n",
    "    # check if coordinate overlaps with exon\n",
    "    overlapping_exons = chr_gtf_df[(chr_gtf_df['end'] <= end_pos) & (chr_gtf_df['start'] >= start_pos)]\n",
    "    if len(overlapping_exons) > 0:\n",
    "        num_exon_coords += 1\n",
    "        exon_lost_df = pd.concat([exon_lost_df, overlapping_exons])\n",
    "                \n",
    "# calculate percentage of coordinates that contain at least one gene exon\n",
    "percent_exon_coords = num_exon_coords / len(coord_df) * 100\n",
    "num_eccDNA = len(coord_df)\n",
    "\n",
    "exon_lost_df= exon_lost_df.drop_duplicates()\n",
    "exon_lost_df[\"attribute\"] = exon_lost_df[\"attribute\"].map(lambda x : extract_gene_name(x))\n",
    "exon_lost_df.to_csv('genes_losing_at_least_one_exon_due_to_eccDNA.csv')\n",
    "print(f\"{num_eccDNA} eccDNA in total.\")\n",
    "print(f\"{num_exon_coords} eccDNA contain at least one gene exon.\")\n",
    "print(f\"{percent_exon_coords}% of eccDNA contain at least one gene exon.\")\n",
    "exon_lost_df.head(3)"
   ]
  },
  {
   "cell_type": "code",
   "execution_count": null,
   "metadata": {
    "collapsed": true
   },
   "outputs": [],
   "source": []
  }
 ],
 "metadata": {
  "kernelspec": {
   "display_name": "lab_env",
   "language": "python",
   "name": "lab_env"
  },
  "language_info": {
   "codemirror_mode": {
    "name": "ipython",
    "version": 3
   },
   "file_extension": ".py",
   "mimetype": "text/x-python",
   "name": "python",
   "nbconvert_exporter": "python",
   "pygments_lexer": "ipython3",
   "version": "3.9.19"
  }
 },
 "nbformat": 4,
 "nbformat_minor": 2
}
